{
 "cells": [
  {
   "cell_type": "markdown",
   "metadata": {},
   "source": [
    "## Get data from API"
   ]
  },
  {
   "cell_type": "code",
   "execution_count": 1,
   "metadata": {},
   "outputs": [
    {
     "name": "stderr",
     "output_type": "stream",
     "text": [
      "WARNING:root:Requests made without an app_token will be subject to strict throttling limits.\n"
     ]
    }
   ],
   "source": [
    "import pydeck as pdk\n",
    "import pandas as pd\n",
    "from sodapy import Socrata\n",
    "\n",
    "# Unauthenticated client only works with public data sets. Note 'None'\n",
    "# in place of application token, and no username or password:\n",
    "client = Socrata(\"data.cityofnewyork.us\", None)\n",
    "\n",
    "# Example authenticated client (needed for non-public datasets):\n",
    "# client = Socrata(data.cityofnewyork.us,\n",
    "#                  MyAppToken,\n",
    "#                  userame=\"user@example.com\",\n",
    "#                  password=\"AFakePassword\")\n",
    "\n",
    "# First 99999 results, returned as JSON from API / converted to Python list of\n",
    "# dictionaries by sodapy.\n",
    "# Get Bedbug Reporting dataset\n",
    "results = client.get(\"wz6d-d3jb\", limit=99999)\n",
    "\n",
    "# Convert to pandas DataFrame\n",
    "df = pd.DataFrame.from_records(results)\n",
    "# The api doesn't give us the column data types, so we have to manually assign them to use them with pydeck\n",
    "df[\"infested_dwelling_unit_count\"]=pd.to_numeric(df[\"infested_dwelling_unit_count\"])\n",
    "df[\"latitude\"]=pd.to_numeric(df[\"latitude\"])\n",
    "df[\"longitude\"]=pd.to_numeric(df[\"longitude\"])"
   ]
  },
  {
   "cell_type": "code",
   "execution_count": 2,
   "metadata": {},
   "outputs": [
    {
     "data": {
      "text/html": [
       "<div>\n",
       "<style scoped>\n",
       "    .dataframe tbody tr th:only-of-type {\n",
       "        vertical-align: middle;\n",
       "    }\n",
       "\n",
       "    .dataframe tbody tr th {\n",
       "        vertical-align: top;\n",
       "    }\n",
       "\n",
       "    .dataframe thead th {\n",
       "        text-align: right;\n",
       "    }\n",
       "</style>\n",
       "<table border=\"1\" class=\"dataframe\">\n",
       "  <thead>\n",
       "    <tr style=\"text-align: right;\">\n",
       "      <th></th>\n",
       "      <th>building_id</th>\n",
       "      <th>registration_id</th>\n",
       "      <th>borough</th>\n",
       "      <th>house_number</th>\n",
       "      <th>street_name</th>\n",
       "      <th>postcode</th>\n",
       "      <th>of_dwelling_units</th>\n",
       "      <th>infested_dwelling_unit_count</th>\n",
       "      <th>eradicated_unit_count</th>\n",
       "      <th>re_infested_dwelling_unit</th>\n",
       "      <th>...</th>\n",
       "      <th>filing_period_start_date</th>\n",
       "      <th>filling_period_end_date</th>\n",
       "      <th>latitude</th>\n",
       "      <th>longitude</th>\n",
       "      <th>community_board</th>\n",
       "      <th>city_council_district</th>\n",
       "      <th>census_tract_2010</th>\n",
       "      <th>bin</th>\n",
       "      <th>bbl</th>\n",
       "      <th>nta</th>\n",
       "    </tr>\n",
       "  </thead>\n",
       "  <tbody>\n",
       "    <tr>\n",
       "      <th>0</th>\n",
       "      <td>3</td>\n",
       "      <td>138953</td>\n",
       "      <td>MANHATTAN</td>\n",
       "      <td>1006</td>\n",
       "      <td>1 AVENUE</td>\n",
       "      <td>10022</td>\n",
       "      <td>626</td>\n",
       "      <td>0.0</td>\n",
       "      <td>0</td>\n",
       "      <td>0</td>\n",
       "      <td>...</td>\n",
       "      <td>2018-11-01T00:00:00.000</td>\n",
       "      <td>2019-10-31T00:00:00.000</td>\n",
       "      <td>40.757148</td>\n",
       "      <td>-73.963757</td>\n",
       "      <td>106</td>\n",
       "      <td>5</td>\n",
       "      <td>10601</td>\n",
       "      <td>1040460</td>\n",
       "      <td>1013670001</td>\n",
       "      <td>Turtle Bay-East Midtown</td>\n",
       "    </tr>\n",
       "    <tr>\n",
       "      <th>1</th>\n",
       "      <td>3</td>\n",
       "      <td>138953</td>\n",
       "      <td>MANHATTAN</td>\n",
       "      <td>1006</td>\n",
       "      <td>1 AVENUE</td>\n",
       "      <td>10022</td>\n",
       "      <td>626</td>\n",
       "      <td>0.0</td>\n",
       "      <td>0</td>\n",
       "      <td>0</td>\n",
       "      <td>...</td>\n",
       "      <td>2017-11-01T00:00:00.000</td>\n",
       "      <td>2018-11-30T00:00:00.000</td>\n",
       "      <td>40.757148</td>\n",
       "      <td>-73.963757</td>\n",
       "      <td>106</td>\n",
       "      <td>5</td>\n",
       "      <td>10601</td>\n",
       "      <td>1040460</td>\n",
       "      <td>1013670001</td>\n",
       "      <td>Turtle Bay-East Midtown</td>\n",
       "    </tr>\n",
       "    <tr>\n",
       "      <th>2</th>\n",
       "      <td>7</td>\n",
       "      <td>100463</td>\n",
       "      <td>MANHATTAN</td>\n",
       "      <td>1026</td>\n",
       "      <td>1 AVENUE</td>\n",
       "      <td>10022</td>\n",
       "      <td>253</td>\n",
       "      <td>1.0</td>\n",
       "      <td>1</td>\n",
       "      <td>0</td>\n",
       "      <td>...</td>\n",
       "      <td>2018-11-01T00:00:00.000</td>\n",
       "      <td>2019-10-31T00:00:00.000</td>\n",
       "      <td>40.757782</td>\n",
       "      <td>-73.963294</td>\n",
       "      <td>106</td>\n",
       "      <td>5</td>\n",
       "      <td>10601</td>\n",
       "      <td>1040466</td>\n",
       "      <td>1013680001</td>\n",
       "      <td>Turtle Bay-East Midtown</td>\n",
       "    </tr>\n",
       "    <tr>\n",
       "      <th>3</th>\n",
       "      <td>7</td>\n",
       "      <td>100463</td>\n",
       "      <td>MANHATTAN</td>\n",
       "      <td>1026</td>\n",
       "      <td>1 AVENUE</td>\n",
       "      <td>10022</td>\n",
       "      <td>253</td>\n",
       "      <td>3.0</td>\n",
       "      <td>3</td>\n",
       "      <td>0</td>\n",
       "      <td>...</td>\n",
       "      <td>2017-11-01T00:00:00.000</td>\n",
       "      <td>2018-11-30T00:00:00.000</td>\n",
       "      <td>40.757782</td>\n",
       "      <td>-73.963294</td>\n",
       "      <td>106</td>\n",
       "      <td>5</td>\n",
       "      <td>10601</td>\n",
       "      <td>1040466</td>\n",
       "      <td>1013680001</td>\n",
       "      <td>Turtle Bay-East Midtown</td>\n",
       "    </tr>\n",
       "    <tr>\n",
       "      <th>4</th>\n",
       "      <td>8</td>\n",
       "      <td>135763</td>\n",
       "      <td>MANHATTAN</td>\n",
       "      <td>103</td>\n",
       "      <td>1 AVENUE</td>\n",
       "      <td>10003</td>\n",
       "      <td>4</td>\n",
       "      <td>4.0</td>\n",
       "      <td>4</td>\n",
       "      <td>4</td>\n",
       "      <td>...</td>\n",
       "      <td>2018-11-01T00:00:00.000</td>\n",
       "      <td>2019-10-31T00:00:00.000</td>\n",
       "      <td>40.726604</td>\n",
       "      <td>-73.986023</td>\n",
       "      <td>103</td>\n",
       "      <td>2</td>\n",
       "      <td>38</td>\n",
       "      <td>1006288</td>\n",
       "      <td>1004480032</td>\n",
       "      <td>East Village</td>\n",
       "    </tr>\n",
       "    <tr>\n",
       "      <th>...</th>\n",
       "      <td>...</td>\n",
       "      <td>...</td>\n",
       "      <td>...</td>\n",
       "      <td>...</td>\n",
       "      <td>...</td>\n",
       "      <td>...</td>\n",
       "      <td>...</td>\n",
       "      <td>...</td>\n",
       "      <td>...</td>\n",
       "      <td>...</td>\n",
       "      <td>...</td>\n",
       "      <td>...</td>\n",
       "      <td>...</td>\n",
       "      <td>...</td>\n",
       "      <td>...</td>\n",
       "      <td>...</td>\n",
       "      <td>...</td>\n",
       "      <td>...</td>\n",
       "      <td>...</td>\n",
       "      <td>...</td>\n",
       "      <td>...</td>\n",
       "    </tr>\n",
       "    <tr>\n",
       "      <th>66125</th>\n",
       "      <td>992422</td>\n",
       "      <td>144683</td>\n",
       "      <td>MANHATTAN</td>\n",
       "      <td>100</td>\n",
       "      <td>VARICK STREET</td>\n",
       "      <td>10013</td>\n",
       "      <td>112</td>\n",
       "      <td>0.0</td>\n",
       "      <td>0</td>\n",
       "      <td>0</td>\n",
       "      <td>...</td>\n",
       "      <td>2017-11-01T00:00:00.000</td>\n",
       "      <td>2018-11-30T00:00:00.000</td>\n",
       "      <td>40.723997</td>\n",
       "      <td>-74.006075</td>\n",
       "      <td>102</td>\n",
       "      <td>3</td>\n",
       "      <td>37</td>\n",
       "      <td>1089738</td>\n",
       "      <td>1004777502</td>\n",
       "      <td>SoHo-TriBeCa-Civic Center-Little Italy</td>\n",
       "    </tr>\n",
       "    <tr>\n",
       "      <th>66126</th>\n",
       "      <td>992474</td>\n",
       "      <td>144685</td>\n",
       "      <td>MANHATTAN</td>\n",
       "      <td>269</td>\n",
       "      <td>WEST 87 STREET</td>\n",
       "      <td>10024</td>\n",
       "      <td>38</td>\n",
       "      <td>0.0</td>\n",
       "      <td>0</td>\n",
       "      <td>0</td>\n",
       "      <td>...</td>\n",
       "      <td>2018-11-01T00:00:00.000</td>\n",
       "      <td>2019-10-31T00:00:00.000</td>\n",
       "      <td>40.789248</td>\n",
       "      <td>-73.976602</td>\n",
       "      <td>107</td>\n",
       "      <td>6</td>\n",
       "      <td>175</td>\n",
       "      <td>1090817</td>\n",
       "      <td>1012350007</td>\n",
       "      <td>Upper West Side</td>\n",
       "    </tr>\n",
       "    <tr>\n",
       "      <th>66127</th>\n",
       "      <td>992475</td>\n",
       "      <td>144686</td>\n",
       "      <td>MANHATTAN</td>\n",
       "      <td>1861</td>\n",
       "      <td>BROADWAY</td>\n",
       "      <td>10023</td>\n",
       "      <td>171</td>\n",
       "      <td>0.0</td>\n",
       "      <td>0</td>\n",
       "      <td>0</td>\n",
       "      <td>...</td>\n",
       "      <td>2018-11-01T00:00:00.000</td>\n",
       "      <td>2019-10-31T00:00:00.000</td>\n",
       "      <td>40.769866</td>\n",
       "      <td>-73.982133</td>\n",
       "      <td>107</td>\n",
       "      <td>3</td>\n",
       "      <td>145</td>\n",
       "      <td>1090158</td>\n",
       "      <td>1011140009</td>\n",
       "      <td>Lincoln Square</td>\n",
       "    </tr>\n",
       "    <tr>\n",
       "      <th>66128</th>\n",
       "      <td>992862</td>\n",
       "      <td>433343</td>\n",
       "      <td>QUEENS</td>\n",
       "      <td>41-53</td>\n",
       "      <td>77 STREET</td>\n",
       "      <td>NaN</td>\n",
       "      <td>8</td>\n",
       "      <td>0.0</td>\n",
       "      <td>0</td>\n",
       "      <td>0</td>\n",
       "      <td>...</td>\n",
       "      <td>2018-11-01T00:00:00.000</td>\n",
       "      <td>2019-10-31T00:00:00.000</td>\n",
       "      <td>40.744418</td>\n",
       "      <td>-73.888140</td>\n",
       "      <td>404</td>\n",
       "      <td>25</td>\n",
       "      <td>267</td>\n",
       "      <td>4617786</td>\n",
       "      <td>4014970051</td>\n",
       "      <td>Elmhurst</td>\n",
       "    </tr>\n",
       "    <tr>\n",
       "      <th>66129</th>\n",
       "      <td>992862</td>\n",
       "      <td>433343</td>\n",
       "      <td>QUEENS</td>\n",
       "      <td>41-53</td>\n",
       "      <td>77 STREET</td>\n",
       "      <td>NaN</td>\n",
       "      <td>8</td>\n",
       "      <td>0.0</td>\n",
       "      <td>0</td>\n",
       "      <td>0</td>\n",
       "      <td>...</td>\n",
       "      <td>2017-11-01T00:00:00.000</td>\n",
       "      <td>2018-11-30T00:00:00.000</td>\n",
       "      <td>40.744418</td>\n",
       "      <td>-73.888140</td>\n",
       "      <td>404</td>\n",
       "      <td>25</td>\n",
       "      <td>267</td>\n",
       "      <td>4617786</td>\n",
       "      <td>4014970051</td>\n",
       "      <td>Elmhurst</td>\n",
       "    </tr>\n",
       "  </tbody>\n",
       "</table>\n",
       "<p>66130 rows × 21 columns</p>\n",
       "</div>"
      ],
      "text/plain": [
       "      building_id registration_id    borough house_number     street_name  \\\n",
       "0               3          138953  MANHATTAN         1006        1 AVENUE   \n",
       "1               3          138953  MANHATTAN         1006        1 AVENUE   \n",
       "2               7          100463  MANHATTAN         1026        1 AVENUE   \n",
       "3               7          100463  MANHATTAN         1026        1 AVENUE   \n",
       "4               8          135763  MANHATTAN          103        1 AVENUE   \n",
       "...           ...             ...        ...          ...             ...   \n",
       "66125      992422          144683  MANHATTAN          100   VARICK STREET   \n",
       "66126      992474          144685  MANHATTAN          269  WEST 87 STREET   \n",
       "66127      992475          144686  MANHATTAN         1861        BROADWAY   \n",
       "66128      992862          433343     QUEENS        41-53       77 STREET   \n",
       "66129      992862          433343     QUEENS        41-53       77 STREET   \n",
       "\n",
       "      postcode of_dwelling_units  infested_dwelling_unit_count  \\\n",
       "0        10022               626                           0.0   \n",
       "1        10022               626                           0.0   \n",
       "2        10022               253                           1.0   \n",
       "3        10022               253                           3.0   \n",
       "4        10003                 4                           4.0   \n",
       "...        ...               ...                           ...   \n",
       "66125    10013               112                           0.0   \n",
       "66126    10024                38                           0.0   \n",
       "66127    10023               171                           0.0   \n",
       "66128      NaN                 8                           0.0   \n",
       "66129      NaN                 8                           0.0   \n",
       "\n",
       "      eradicated_unit_count re_infested_dwelling_unit  ...  \\\n",
       "0                         0                         0  ...   \n",
       "1                         0                         0  ...   \n",
       "2                         1                         0  ...   \n",
       "3                         3                         0  ...   \n",
       "4                         4                         4  ...   \n",
       "...                     ...                       ...  ...   \n",
       "66125                     0                         0  ...   \n",
       "66126                     0                         0  ...   \n",
       "66127                     0                         0  ...   \n",
       "66128                     0                         0  ...   \n",
       "66129                     0                         0  ...   \n",
       "\n",
       "      filing_period_start_date  filling_period_end_date   latitude  longitude  \\\n",
       "0      2018-11-01T00:00:00.000  2019-10-31T00:00:00.000  40.757148 -73.963757   \n",
       "1      2017-11-01T00:00:00.000  2018-11-30T00:00:00.000  40.757148 -73.963757   \n",
       "2      2018-11-01T00:00:00.000  2019-10-31T00:00:00.000  40.757782 -73.963294   \n",
       "3      2017-11-01T00:00:00.000  2018-11-30T00:00:00.000  40.757782 -73.963294   \n",
       "4      2018-11-01T00:00:00.000  2019-10-31T00:00:00.000  40.726604 -73.986023   \n",
       "...                        ...                      ...        ...        ...   \n",
       "66125  2017-11-01T00:00:00.000  2018-11-30T00:00:00.000  40.723997 -74.006075   \n",
       "66126  2018-11-01T00:00:00.000  2019-10-31T00:00:00.000  40.789248 -73.976602   \n",
       "66127  2018-11-01T00:00:00.000  2019-10-31T00:00:00.000  40.769866 -73.982133   \n",
       "66128  2018-11-01T00:00:00.000  2019-10-31T00:00:00.000  40.744418 -73.888140   \n",
       "66129  2017-11-01T00:00:00.000  2018-11-30T00:00:00.000  40.744418 -73.888140   \n",
       "\n",
       "       community_board city_council_district census_tract_2010      bin  \\\n",
       "0                  106                     5             10601  1040460   \n",
       "1                  106                     5             10601  1040460   \n",
       "2                  106                     5             10601  1040466   \n",
       "3                  106                     5             10601  1040466   \n",
       "4                  103                     2                38  1006288   \n",
       "...                ...                   ...               ...      ...   \n",
       "66125              102                     3                37  1089738   \n",
       "66126              107                     6               175  1090817   \n",
       "66127              107                     3               145  1090158   \n",
       "66128              404                    25               267  4617786   \n",
       "66129              404                    25               267  4617786   \n",
       "\n",
       "              bbl                                     nta  \n",
       "0      1013670001                 Turtle Bay-East Midtown  \n",
       "1      1013670001                 Turtle Bay-East Midtown  \n",
       "2      1013680001                 Turtle Bay-East Midtown  \n",
       "3      1013680001                 Turtle Bay-East Midtown  \n",
       "4      1004480032                            East Village  \n",
       "...           ...                                     ...  \n",
       "66125  1004777502  SoHo-TriBeCa-Civic Center-Little Italy  \n",
       "66126  1012350007                         Upper West Side  \n",
       "66127  1011140009                          Lincoln Square  \n",
       "66128  4014970051                                Elmhurst  \n",
       "66129  4014970051                                Elmhurst  \n",
       "\n",
       "[66130 rows x 21 columns]"
      ]
     },
     "execution_count": 2,
     "metadata": {},
     "output_type": "execute_result"
    }
   ],
   "source": [
    "df"
   ]
  },
  {
   "cell_type": "markdown",
   "metadata": {},
   "source": [
    "## Build and display bedbug map"
   ]
  },
  {
   "cell_type": "code",
   "execution_count": 3,
   "metadata": {},
   "outputs": [
    {
     "data": {
      "text/html": [
       "\n",
       "        <iframe\n",
       "            width=\"700\"\n",
       "            height=\"500\"\n",
       "            src=\"./demo.html\"\n",
       "            frameborder=\"0\"\n",
       "            allowfullscreen\n",
       "        ></iframe>\n",
       "        "
      ],
      "text/plain": [
       "<IPython.lib.display.IFrame at 0x7f12f1116c10>"
      ]
     },
     "metadata": {},
     "output_type": "display_data"
    },
    {
     "data": {
      "text/plain": [
       "'/home/axm/Documents/notebooks/demo.html'"
      ]
     },
     "execution_count": 3,
     "metadata": {},
     "output_type": "execute_result"
    }
   ],
   "source": [
    "layer = pdk.Layer(\n",
    "    \"HeatmapLayer\",\n",
    "    data=df,\n",
    "    get_position=['longitude', 'latitude'],\n",
    "    get_weight=\"infested_dwelling_unit_count\",\n",
    "    threshold=0.3)\n",
    "\n",
    "# Set the viewport location\n",
    "view_state = pdk.ViewState(\n",
    "    longitude=-74.0060,\n",
    "    latitude=40.7128,\n",
    "    zoom=11,\n",
    "    min_zoom=5,\n",
    "    max_zoom=16,\n",
    "    pitch=45,\n",
    "    bearing=-27.36)\n",
    "\n",
    "# Render\n",
    "r = pdk.Deck(layers=[layer], initial_view_state=view_state)\n",
    "#r.show()\n",
    "r.to_html('demo.html')\n",
    "\n",
    "# Please see the note about using a Mapbox API token here:\n",
    "# https://github.com/uber/deck.gl/tree/master/bindings/python/pydeck#mapbox-api-token"
   ]
  },
  {
   "cell_type": "markdown",
   "metadata": {},
   "source": [
    "### Now lets see if theres any correlation between population density and bedbug infestations"
   ]
  },
  {
   "cell_type": "markdown",
   "metadata": {},
   "source": [
    "To make our population density, we will need to combine the map of NYC split into neighborhood tabulation areas and the dataset of the population of those NTAs"
   ]
  },
  {
   "cell_type": "code",
   "execution_count": 4,
   "metadata": {},
   "outputs": [],
   "source": [
    "# Get New York City Population By Neighborhood Tabulation Areas dataset\n",
    "results = client.get(\"swpk-hqdp\", limit=2000)\n",
    "results_df = pd.DataFrame.from_records(results)"
   ]
  },
  {
   "cell_type": "code",
   "execution_count": 5,
   "metadata": {},
   "outputs": [],
   "source": [
    "# Get Neighborhood Tabulation Areas (NTA) Map\n",
    "nycmap = client.get(\"q2z5-ai38\", limit=2000, content_type=\"geojson\")"
   ]
  },
  {
   "cell_type": "code",
   "execution_count": 6,
   "metadata": {},
   "outputs": [
    {
     "data": {
      "text/html": [
       "<div>\n",
       "<style scoped>\n",
       "    .dataframe tbody tr th:only-of-type {\n",
       "        vertical-align: middle;\n",
       "    }\n",
       "\n",
       "    .dataframe tbody tr th {\n",
       "        vertical-align: top;\n",
       "    }\n",
       "\n",
       "    .dataframe thead th {\n",
       "        text-align: right;\n",
       "    }\n",
       "</style>\n",
       "<table border=\"1\" class=\"dataframe\">\n",
       "  <thead>\n",
       "    <tr style=\"text-align: right;\">\n",
       "      <th></th>\n",
       "      <th>borough</th>\n",
       "      <th>year</th>\n",
       "      <th>fips_county_code</th>\n",
       "      <th>nta_code</th>\n",
       "      <th>nta_name</th>\n",
       "      <th>population</th>\n",
       "    </tr>\n",
       "  </thead>\n",
       "  <tbody>\n",
       "    <tr>\n",
       "      <th>count</th>\n",
       "      <td>390</td>\n",
       "      <td>390</td>\n",
       "      <td>390</td>\n",
       "      <td>390</td>\n",
       "      <td>390</td>\n",
       "      <td>390</td>\n",
       "    </tr>\n",
       "    <tr>\n",
       "      <th>unique</th>\n",
       "      <td>5</td>\n",
       "      <td>2</td>\n",
       "      <td>5</td>\n",
       "      <td>195</td>\n",
       "      <td>195</td>\n",
       "      <td>387</td>\n",
       "    </tr>\n",
       "    <tr>\n",
       "      <th>top</th>\n",
       "      <td>Queens</td>\n",
       "      <td>2000</td>\n",
       "      <td>081</td>\n",
       "      <td>BK75</td>\n",
       "      <td>Battery Park City-Lower Manhattan</td>\n",
       "      <td>0</td>\n",
       "    </tr>\n",
       "    <tr>\n",
       "      <th>freq</th>\n",
       "      <td>116</td>\n",
       "      <td>195</td>\n",
       "      <td>116</td>\n",
       "      <td>2</td>\n",
       "      <td>2</td>\n",
       "      <td>3</td>\n",
       "    </tr>\n",
       "  </tbody>\n",
       "</table>\n",
       "</div>"
      ],
      "text/plain": [
       "       borough  year fips_county_code nta_code  \\\n",
       "count      390   390              390      390   \n",
       "unique       5     2                5      195   \n",
       "top     Queens  2000              081     BK75   \n",
       "freq       116   195              116        2   \n",
       "\n",
       "                                 nta_name population  \n",
       "count                                 390        390  \n",
       "unique                                195        387  \n",
       "top     Battery Park City-Lower Manhattan          0  \n",
       "freq                                    2          3  "
      ]
     },
     "execution_count": 6,
     "metadata": {},
     "output_type": "execute_result"
    }
   ],
   "source": [
    "results_df.describe()"
   ]
  },
  {
   "cell_type": "markdown",
   "metadata": {},
   "source": [
    "The population dataset contains years 2000 and 2010, we're only interested in 2010, so lets drop the rest"
   ]
  },
  {
   "cell_type": "code",
   "execution_count": 7,
   "metadata": {},
   "outputs": [],
   "source": [
    "results_df_2010 = results_df[results_df['year']== '2010']"
   ]
  },
  {
   "cell_type": "code",
   "execution_count": 8,
   "metadata": {},
   "outputs": [
    {
     "data": {
      "text/html": [
       "<div>\n",
       "<style scoped>\n",
       "    .dataframe tbody tr th:only-of-type {\n",
       "        vertical-align: middle;\n",
       "    }\n",
       "\n",
       "    .dataframe tbody tr th {\n",
       "        vertical-align: top;\n",
       "    }\n",
       "\n",
       "    .dataframe thead th {\n",
       "        text-align: right;\n",
       "    }\n",
       "</style>\n",
       "<table border=\"1\" class=\"dataframe\">\n",
       "  <thead>\n",
       "    <tr style=\"text-align: right;\">\n",
       "      <th></th>\n",
       "      <th>borough</th>\n",
       "      <th>year</th>\n",
       "      <th>fips_county_code</th>\n",
       "      <th>nta_code</th>\n",
       "      <th>nta_name</th>\n",
       "      <th>population</th>\n",
       "    </tr>\n",
       "  </thead>\n",
       "  <tbody>\n",
       "    <tr>\n",
       "      <th>count</th>\n",
       "      <td>195</td>\n",
       "      <td>195</td>\n",
       "      <td>195</td>\n",
       "      <td>195</td>\n",
       "      <td>195</td>\n",
       "      <td>195</td>\n",
       "    </tr>\n",
       "    <tr>\n",
       "      <th>unique</th>\n",
       "      <td>5</td>\n",
       "      <td>1</td>\n",
       "      <td>5</td>\n",
       "      <td>195</td>\n",
       "      <td>195</td>\n",
       "      <td>193</td>\n",
       "    </tr>\n",
       "    <tr>\n",
       "      <th>top</th>\n",
       "      <td>Queens</td>\n",
       "      <td>2010</td>\n",
       "      <td>081</td>\n",
       "      <td>BK75</td>\n",
       "      <td>Battery Park City-Lower Manhattan</td>\n",
       "      <td>0</td>\n",
       "    </tr>\n",
       "    <tr>\n",
       "      <th>freq</th>\n",
       "      <td>58</td>\n",
       "      <td>195</td>\n",
       "      <td>58</td>\n",
       "      <td>1</td>\n",
       "      <td>1</td>\n",
       "      <td>2</td>\n",
       "    </tr>\n",
       "  </tbody>\n",
       "</table>\n",
       "</div>"
      ],
      "text/plain": [
       "       borough  year fips_county_code nta_code  \\\n",
       "count      195   195              195      195   \n",
       "unique       5     1                5      195   \n",
       "top     Queens  2010              081     BK75   \n",
       "freq        58   195               58        1   \n",
       "\n",
       "                                 nta_name population  \n",
       "count                                 195        195  \n",
       "unique                                195        193  \n",
       "top     Battery Park City-Lower Manhattan          0  \n",
       "freq                                    1          2  "
      ]
     },
     "execution_count": 8,
     "metadata": {},
     "output_type": "execute_result"
    }
   ],
   "source": [
    "results_df_2010.describe()"
   ]
  },
  {
   "cell_type": "code",
   "execution_count": 9,
   "metadata": {},
   "outputs": [
    {
     "data": {
      "text/plain": [
       "3"
      ]
     },
     "execution_count": 9,
     "metadata": {},
     "output_type": "execute_result"
    }
   ],
   "source": [
    "len(nycmap)"
   ]
  },
  {
   "cell_type": "markdown",
   "metadata": {},
   "source": [
    "Now that our datasets match up, lets combine them"
   ]
  },
  {
   "cell_type": "code",
   "execution_count": 10,
   "metadata": {},
   "outputs": [],
   "source": [
    "from area import area\n",
    "import json\n",
    "# create dictionary of nta codes mapping to area (square miles)\n",
    "d = {}\n",
    "neighborhood = nycmap[\"features\"]\n",
    "for n in neighborhood:\n",
    "    code = n[\"properties\"][\"ntacode\"]\n",
    "    a = area(n[\"geometry\"])/(1609*1609) # converts from m^2 to mi^2\n",
    "    #n[\"properties\"][\"density\"] = results_df_2010[\"population\"][results_df_2010[\"nta_code\"] == code]\n",
    "    y = {\"density\" : int(results_df_2010[\"population\"][results_df_2010[\"nta_code\"] == code])//a}\n",
    "    n[\"properties\"].update(y)"
   ]
  },
  {
   "cell_type": "code",
   "execution_count": 11,
   "metadata": {},
   "outputs": [
    {
     "data": {
      "text/plain": [
       "54823.0"
      ]
     },
     "execution_count": 11,
     "metadata": {},
     "output_type": "execute_result"
    }
   ],
   "source": [
    "nycmap[\"features\"][0][\"properties\"][\"density\"]"
   ]
  },
  {
   "cell_type": "markdown",
   "metadata": {},
   "source": [
    "We need to normalize the data to map it to the 255 intensity values for our final map"
   ]
  },
  {
   "cell_type": "code",
   "execution_count": 12,
   "metadata": {},
   "outputs": [
    {
     "name": "stdout",
     "output_type": "stream",
     "text": [
      "159518.0\n",
      "0.0\n"
     ]
    }
   ],
   "source": [
    "maxim = 0\n",
    "minim = float('inf')\n",
    "for i in nycmap[\"features\"]:\n",
    "    if i[\"properties\"][\"density\"] > maxim:\n",
    "        maxim = i[\"properties\"][\"density\"]\n",
    "    if i[\"properties\"][\"density\"] < minim:\n",
    "        minim = i[\"properties\"][\"density\"]\n",
    "print(maxim)\n",
    "print(minim)"
   ]
  },
  {
   "cell_type": "code",
   "execution_count": 13,
   "metadata": {
    "scrolled": true
   },
   "outputs": [
    {
     "data": {
      "text/html": [
       "\n",
       "        <iframe\n",
       "            width=\"700\"\n",
       "            height=\"500\"\n",
       "            src=\"./demo.html\"\n",
       "            frameborder=\"0\"\n",
       "            allowfullscreen\n",
       "        ></iframe>\n",
       "        "
      ],
      "text/plain": [
       "<IPython.lib.display.IFrame at 0x7f12efbf4fd0>"
      ]
     },
     "metadata": {},
     "output_type": "display_data"
    },
    {
     "data": {
      "text/plain": [
       "'/home/axm/Documents/notebooks/demo.html'"
      ]
     },
     "execution_count": 13,
     "metadata": {},
     "output_type": "execute_result"
    }
   ],
   "source": [
    "layer2 = pdk.Layer(\n",
    "    \"GeoJsonLayer\",\n",
    "    data=nycmap,\n",
    "    pickable=False,\n",
    "    stroked=False,\n",
    "    filled=True,\n",
    "    get_elevation=30,\n",
    "    wireframe=True,\n",
    "    opacity=1,\n",
    "    get_fill_color='[(properties.density / 623), (properties.density / 623), (properties.density / 623)]',\n",
    "    get_line_color=[255, 255, 255])\n",
    "\n",
    "# Render\n",
    "r = pdk.Deck(layers=[layer,layer2], initial_view_state=view_state)\n",
    "r.to_html('demo.html')\n",
    "#r.show()"
   ]
  },
  {
   "cell_type": "markdown",
   "metadata": {},
   "source": [
    "By overlaying the two layers, we can see that there is a correlation between the population density and the amount of infestations"
   ]
  },
  {
   "cell_type": "markdown",
   "metadata": {},
   "source": [
    "Finally, lets add a dropdown menu so that we can flip between the layers."
   ]
  },
  {
   "cell_type": "code",
   "execution_count": 14,
   "metadata": {},
   "outputs": [
    {
     "data": {
      "application/vnd.jupyter.widget-view+json": {
       "model_id": "84778a6d987e46a4a385081062d3be23",
       "version_major": 2,
       "version_minor": 0
      },
      "text/plain": [
       "Dropdown(description='Visible Layers:', options=('both', 'bedbugs', 'population density'), value='both')"
      ]
     },
     "metadata": {},
     "output_type": "display_data"
    }
   ],
   "source": [
    "import ipywidgets as widgets\n",
    "from IPython.display import display\n",
    "\n",
    "dd = widgets.Dropdown(\n",
    "    options=['both', 'bedbugs', 'population density'],\n",
    "    value='both',\n",
    "    description='Visible Layers:',\n",
    "    disabled=False,\n",
    ")\n",
    "\n",
    "def on_change(v):\n",
    "    if dd.value == 'both':\n",
    "        r = pdk.Deck(layers=[layer,layer2], initial_view_state=view_state,mapbox_key='pk.eyJ1IjoiYXhtIiwiYSI6ImNrYmxiZjh3ODE3ZDcycm1sajN0NDk5cDcifQ.3oO6y6On9Ir1G2tQziqXyw')\n",
    "        r.update()\n",
    "    if dd.value == 'bedbugs':\n",
    "        r = pdk.Deck(layers=[layer], initial_view_state=view_state,mapbox_key='pk.eyJ1IjoiYXhtIiwiYSI6ImNrYmxiZjh3ODE3ZDcycm1sajN0NDk5cDcifQ.3oO6y6On9Ir1G2tQziqXyw')\n",
    "        r.update()\n",
    "    if dd.value == 'population density':\n",
    "        r = pdk.Deck(layers=[layer2], initial_view_state=view_state,mapbox_key='pk.eyJ1IjoiYXhtIiwiYSI6ImNrYmxiZjh3ODE3ZDcycm1sajN0NDk5cDcifQ.3oO6y6On9Ir1G2tQziqXyw')\n",
    "        r.update()\n",
    "dd.observe(on_change,names = 'value')\n",
    "display(dd)"
   ]
  },
  {
   "cell_type": "markdown",
   "metadata": {},
   "source": [
    "Further exploration may include comparing the wealth distribution of these areas, or how often infestation rates appear in rentals vs owned properties, etc."
   ]
  }
 ],
 "metadata": {
  "kernelspec": {
   "display_name": "Python 3",
   "language": "python",
   "name": "python3"
  },
  "language_info": {
   "codemirror_mode": {
    "name": "ipython",
    "version": 3
   },
   "file_extension": ".py",
   "mimetype": "text/x-python",
   "name": "python",
   "nbconvert_exporter": "python",
   "pygments_lexer": "ipython3",
   "version": "3.8.3"
  }
 },
 "nbformat": 4,
 "nbformat_minor": 4
}
